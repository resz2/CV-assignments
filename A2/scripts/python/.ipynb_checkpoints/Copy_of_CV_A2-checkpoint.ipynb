{
 "cells": [
  {
   "cell_type": "markdown",
   "metadata": {
    "id": "I_uXvq-XhWE4"
   },
   "source": [
    "##Q1"
   ]
  },
  {
   "cell_type": "code",
   "execution_count": null,
   "metadata": {
    "colab": {
     "base_uri": "https://localhost:8080/"
    },
    "id": "lZ6BDsObiCtO",
    "outputId": "8f802fb6-c09c-428f-d3ec-9ff86009649e"
   },
   "outputs": [
    {
     "name": "stdout",
     "output_type": "stream",
     "text": [
      "Mounted at /content/drive\n"
     ]
    }
   ],
   "source": [
    "## Imports\n",
    "\n",
    "import cv2 \n",
    "import matplotlib.pyplot as plt\n",
    "import numpy as np\n",
    "import os\n",
    "from PIL import Image\n",
    "from scipy import stats\n",
    "from skimage import filters\n",
    "import pandas as pd\n",
    "from collections import defaultdict\n",
    "import seaborn as sns \n",
    "from tqdm import tqdm\n",
    "import cv2\n",
    "import matplotlib.pyplot as plt\n",
    "import numpy as np\n",
    "import os\n",
    "from PIL import Image\n",
    "from scipy import stats\n",
    "from skimage import filters\n",
    "import pandas as pd\n",
    "from collections import defaultdict\n",
    "\n",
    "\n",
    "\n",
    "from google.colab import drive\n",
    "drive.mount('/content/drive', force_remount=True)\n",
    "\n",
    "# ##%cd /content/drive/MyDrive/"
   ]
  },
  {
   "cell_type": "code",
   "execution_count": null,
   "metadata": {
    "id": "5G3A1BxVtumQ"
   },
   "outputs": [],
   "source": [
    "for dirname, _, filenames in os.walk('/content/drive/MyDrive/CV_A2/Sal_maps'):\n",
    "    for filename in filenames:\n",
    "        print(os.path.join(dirname, filename))\n",
    "\n"
   ]
  },
  {
   "cell_type": "markdown",
   "metadata": {
    "id": "foDmrA0dx5uC"
   },
   "source": [
    "###NON-DL SAL MAP"
   ]
  },
  {
   "cell_type": "code",
   "execution_count": null,
   "metadata": {
    "id": "UjKMU60owG7h"
   },
   "outputs": [],
   "source": [
    "def cdist(c1, c2):\n",
    "    ret = (c1[0] - c2[0])**2\n",
    "    ret += (c1[1] - c2[1])**2\n",
    "    ret += (c1[2] - c2[2])**2\n",
    "    return np.sqrt(ret)\n",
    "\n",
    "\n",
    "def create_kcolours(img_path,filename):\n",
    "    k = 10\n",
    "    img = cv2.imread(img_path)\n",
    "    i = np.float32(img).reshape(-1,3)\n",
    "    condition = (cv2.TERM_CRITERIA_EPS + cv2.TERM_CRITERIA_MAX_ITER, 50, 0.8)\n",
    "    ret,label,center = cv2.kmeans(i, k , None, condition, 10, cv2.KMEANS_RANDOM_CENTERS)\n",
    "    center = np.uint8(center)\n",
    "    img85 = center[label.flatten()]\n",
    "    img85 = img85.reshape(img.shape)\n",
    "    img_path_new = img_path.replace('original_rawat','Kmeans_rawat')\n",
    "    img_path_new = img_path_new.replace('.jpg','.png')\n",
    "    cv2.imwrite(img_path_new, img85)\n",
    "\n",
    "def create_sal_map(img_path_new):\n",
    "\n",
    "    unique_colors = set()\n",
    "    freqs = {}\n",
    "    img2 = Image.open(img_path_new)\n",
    "    w, h = img2.size\n",
    "\n",
    "    print(img2.size)\n",
    "    for x in range(w):\n",
    "        for y in range(h):\n",
    "            pixel = img2.getpixel((x, y))\n",
    "            unique_colors.add(pixel)\n",
    "            if(pixel not in freqs):\n",
    "                freqs[pixel] = 1\n",
    "            else:\n",
    "                freqs[pixel] += 1\n",
    "\n",
    "    num_colors = len(unique_colors)\n",
    "    colors = list(unique_colors)\n",
    "    print(num_colors)\n",
    "    pnum = w*h\n",
    "    print('total pixels:', pnum)\n",
    "    sals = defaultdict(float)\n",
    "    minsal = np.inf\n",
    "    maxsal = -1\n",
    "\n",
    "    for c1 in colors:\n",
    "        val = 0\n",
    "        for c2 in colors:\n",
    "            val += (freqs[c2]/120000) * cdist(c1, c2)\n",
    "        sals[c1] = val\n",
    "        if(val > maxsal):\n",
    "            maxsal = val\n",
    "        if(val < minsal):\n",
    "            minsal = val\n",
    "        \n",
    "    print('min saliency:', minsal, '\\nmax saliency:',maxsal)\n",
    "    scaled = defaultdict(int)\n",
    "    for color in colors:\n",
    "        scaled[color] = (sals[color] - minsal) / (maxsal - minsal) * 255\n",
    "\n",
    "    sal = np.zeros((h, w), np.uint8)\n",
    "    for x in range(w):\n",
    "        for y in range(h):\n",
    "            pixel = img2.getpixel((x, y))\n",
    "            sal[y][x] = scaled[pixel]\n",
    "\n",
    "    \n",
    "\n",
    "    out_path = img_path_new.replace('Kmeans_rawat','Sal_map_Non_DL_Rawat')\n",
    "    print(out_path)\n",
    "    plt.imsave(out_path, sal, cmap='Greys')\n",
    "    grey_image = cv2.imread(out_path,0)\n",
    "    grey_image = np.array(grey_image)\n",
    "    grey_image = grey_image.astype(np.uint8)\n",
    "    ret2,th2 = cv2.threshold(grey_image,0,255,cv2.THRESH_BINARY+cv2.THRESH_OTSU)\n",
    "    plt.imshow(th2,cmap='Greys')\n",
    "    new_out_path = out_path.replace('Sal_map_Non_DL_Rawat','Threshmap_Non_DL_Rawat')\n",
    "    plt.imsave(new_out_path, th2, cmap='Greys')\n",
    "    return ret2\n",
    "\n",
    "  "
   ]
  },
  {
   "cell_type": "code",
   "execution_count": null,
   "metadata": {
    "id": "CAEOKwz8ofQN"
   },
   "outputs": [],
   "source": [
    "outsu_thres = []\n",
    "def create_maps_non_DL(data_path):\n",
    "    for dirname, _, filenames in os.walk(data_path):\n",
    "        \n",
    "            for filename in filenames:\n",
    "                # try:\n",
    "                img_path=os.path.join(dirname, filename)\n",
    "                print(img_path)\n",
    "                create_kcolours(img_path,filename)\n",
    "                img_path_new = img_path.replace('original_rawat','Kmeans_rawat')\n",
    "                img_path_new = img_path_new.replace('.jpg','.png')\n",
    "                thresh= create_sal_map(img_path_new)\n",
    "                outsu_thres.append(thresh)\n",
    "    \n",
    "\n"
   ]
  },
  {
   "cell_type": "code",
   "execution_count": null,
   "metadata": {
    "colab": {
     "base_uri": "https://localhost:8080/",
     "height": 1000
    },
    "id": "B9PAueBHtlty",
    "outputId": "3fdea90b-be5c-4c2b-e46e-658579da9653"
   },
   "outputs": [
    {
     "name": "stdout",
     "output_type": "stream",
     "text": [
      "/content/drive/MyDrive/original_rawat/sun_aafwfgrzzmbgomzq.jpg\n",
      "(400, 300)\n",
      "10\n",
      "total pixels: 120000\n",
      "min saliency: 76.04260579962288 \n",
      "max saliency: 194.66003457802913\n",
      "/content/drive/MyDrive/Sal_map_Non_DL_Rawat/sun_aafwfgrzzmbgomzq.png\n",
      "/content/drive/MyDrive/original_rawat/sun_aaejodrdtwgvsghs.jpg\n",
      "(400, 288)\n",
      "10\n",
      "total pixels: 115200\n",
      "min saliency: 71.99849476115988 \n",
      "max saliency: 191.51574066054079\n",
      "/content/drive/MyDrive/Sal_map_Non_DL_Rawat/sun_aaejodrdtwgvsghs.png\n",
      "/content/drive/MyDrive/original_rawat/sun_aafcuyxmktjzkfgc.jpg\n",
      "(400, 300)\n",
      "10\n",
      "total pixels: 120000\n",
      "min saliency: 86.60612791824721 \n",
      "max saliency: 194.13686024226362\n",
      "/content/drive/MyDrive/Sal_map_Non_DL_Rawat/sun_aafcuyxmktjzkfgc.png\n",
      "/content/drive/MyDrive/original_rawat/sun_aaddfxtawmybtluk.jpg\n",
      "(400, 319)\n",
      "10\n",
      "total pixels: 127600\n",
      "min saliency: 63.41211950586472 \n",
      "max saliency: 237.64449777287695\n",
      "/content/drive/MyDrive/Sal_map_Non_DL_Rawat/sun_aaddfxtawmybtluk.png\n",
      "/content/drive/MyDrive/original_rawat/sun_aagdjpvdyjabbqxy.jpg\n",
      "(400, 400)\n",
      "10\n",
      "total pixels: 160000\n",
      "min saliency: 123.13572202421473 \n",
      "max saliency: 281.32695162785564\n",
      "/content/drive/MyDrive/Sal_map_Non_DL_Rawat/sun_aagdjpvdyjabbqxy.png\n",
      "/content/drive/MyDrive/original_rawat/sun_aacklalcwguymgef.jpg\n",
      "(300, 400)\n",
      "10\n",
      "total pixels: 120000\n",
      "min saliency: 129.76177873527342 \n",
      "max saliency: 184.05612119702968\n",
      "/content/drive/MyDrive/Sal_map_Non_DL_Rawat/sun_aacklalcwguymgef.png\n",
      "/content/drive/MyDrive/original_rawat/sun_aaerxysxopvbmqdq.jpg\n",
      "(400, 270)\n",
      "10\n",
      "total pixels: 108000\n",
      "min saliency: 86.7491786724973 \n",
      "max saliency: 163.6314834248966\n",
      "/content/drive/MyDrive/Sal_map_Non_DL_Rawat/sun_aaerxysxopvbmqdq.png\n",
      "/content/drive/MyDrive/original_rawat/sun_aacvyknwkfzsxjbt.jpg\n",
      "(400, 269)\n",
      "10\n",
      "total pixels: 107600\n",
      "min saliency: 71.75047734676886 \n",
      "max saliency: 201.14373724352737\n",
      "/content/drive/MyDrive/Sal_map_Non_DL_Rawat/sun_aacvyknwkfzsxjbt.png\n",
      "/content/drive/MyDrive/original_rawat/sun_aaggleempnvtxpwk.jpg\n",
      "(400, 300)\n",
      "10\n",
      "total pixels: 120000\n",
      "min saliency: 99.33610563384008 \n",
      "max saliency: 247.7850395869522\n",
      "/content/drive/MyDrive/Sal_map_Non_DL_Rawat/sun_aaggleempnvtxpwk.png\n",
      "/content/drive/MyDrive/original_rawat/sun_aafvrsnoikyyntky.jpg\n",
      "(400, 266)\n",
      "10\n",
      "total pixels: 106400\n",
      "min saliency: 66.3082453112231 \n",
      "max saliency: 179.2118324451122\n",
      "/content/drive/MyDrive/Sal_map_Non_DL_Rawat/sun_aafvrsnoikyyntky.png\n",
      "/content/drive/MyDrive/original_rawat/sun_aaeijzjhbdeibdjh.jpg\n",
      "(400, 300)\n",
      "10\n",
      "total pixels: 120000\n",
      "min saliency: 82.62358326236203 \n",
      "max saliency: 142.05215724385806\n",
      "/content/drive/MyDrive/Sal_map_Non_DL_Rawat/sun_aaeijzjhbdeibdjh.png\n",
      "/content/drive/MyDrive/original_rawat/sun_aaeuxbehhiulglhu.jpg\n",
      "(400, 254)\n",
      "10\n",
      "total pixels: 101600\n",
      "min saliency: 54.32326082796628 \n",
      "max saliency: 148.78888428359951\n",
      "/content/drive/MyDrive/Sal_map_Non_DL_Rawat/sun_aaeuxbehhiulglhu.png\n",
      "/content/drive/MyDrive/original_rawat/sun_aaeqgqhstxzjovhl.jpg\n",
      "(318, 400)\n",
      "10\n",
      "total pixels: 127200\n",
      "min saliency: 105.49678324569342 \n",
      "max saliency: 193.08539307187874\n",
      "/content/drive/MyDrive/Sal_map_Non_DL_Rawat/sun_aaeqgqhstxzjovhl.png\n",
      "/content/drive/MyDrive/original_rawat/sun_aagjvjynskmonnbv.jpg\n",
      "(400, 267)\n",
      "10\n",
      "total pixels: 106800\n",
      "min saliency: 85.92636880573795 \n",
      "max saliency: 201.8759974945158\n",
      "/content/drive/MyDrive/Sal_map_Non_DL_Rawat/sun_aagjvjynskmonnbv.png\n",
      "/content/drive/MyDrive/original_rawat/sun_aadtmifyuvqcfkcr.jpg\n",
      "(400, 300)\n",
      "10\n",
      "total pixels: 120000\n",
      "min saliency: 98.5606873941914 \n",
      "max saliency: 205.6229132285072\n",
      "/content/drive/MyDrive/Sal_map_Non_DL_Rawat/sun_aadtmifyuvqcfkcr.png\n",
      "/content/drive/MyDrive/original_rawat/sun_aafursrpkimodzup.jpg\n",
      "(400, 300)\n",
      "10\n",
      "total pixels: 120000\n",
      "min saliency: 81.00266773650085 \n",
      "max saliency: 187.74182499168836\n",
      "/content/drive/MyDrive/Sal_map_Non_DL_Rawat/sun_aafursrpkimodzup.png\n",
      "/content/drive/MyDrive/original_rawat/sun_aafdvoudzicgjeib.jpg\n",
      "(401, 300)\n",
      "10\n",
      "total pixels: 120300\n",
      "min saliency: 95.98327534203526 \n",
      "max saliency: 256.44584083466464\n",
      "/content/drive/MyDrive/Sal_map_Non_DL_Rawat/sun_aafdvoudzicgjeib.png\n",
      "/content/drive/MyDrive/original_rawat/sun_aaeewhbicljkrdik.jpg\n",
      "(401, 272)\n",
      "10\n",
      "total pixels: 109072\n",
      "min saliency: 69.55048648523635 \n",
      "max saliency: 130.89451414988315\n",
      "/content/drive/MyDrive/Sal_map_Non_DL_Rawat/sun_aaeewhbicljkrdik.png\n",
      "/content/drive/MyDrive/original_rawat/sun_aadmjevvercatylj.jpg\n",
      "(267, 400)\n",
      "10\n",
      "total pixels: 106800\n",
      "min saliency: 101.42172849378792 \n",
      "max saliency: 225.39896403382502\n",
      "/content/drive/MyDrive/Sal_map_Non_DL_Rawat/sun_aadmjevvercatylj.png\n",
      "/content/drive/MyDrive/original_rawat/sun_aaewqqmsjvmhegov.jpg\n",
      "(400, 271)\n",
      "10\n",
      "total pixels: 108400\n",
      "min saliency: 103.85618884361963 \n",
      "max saliency: 200.8079265288876\n",
      "/content/drive/MyDrive/Sal_map_Non_DL_Rawat/sun_aaewqqmsjvmhegov.png\n",
      "/content/drive/MyDrive/original_rawat/sun_aafbeopufqmfjpgs.jpg\n",
      "(371, 400)\n",
      "10\n",
      "total pixels: 148400\n",
      "min saliency: 117.67946189504119 \n",
      "max saliency: 220.69502697141365\n",
      "/content/drive/MyDrive/Sal_map_Non_DL_Rawat/sun_aafbeopufqmfjpgs.png\n",
      "/content/drive/MyDrive/original_rawat/sun_aafmenolzglxmlma.jpg\n",
      "(400, 300)\n",
      "10\n",
      "total pixels: 120000\n",
      "min saliency: 52.98467609109203 \n",
      "max saliency: 346.62718934137797\n",
      "/content/drive/MyDrive/Sal_map_Non_DL_Rawat/sun_aafmenolzglxmlma.png\n"
     ]
    },
    {
     "data": {
      "image/png": "[encoded data removed]",
      "text/plain": [
       "<Figure size 432x288 with 1 Axes>"
      ]
     },
     "metadata": {
      "needs_background": "light"
     },
     "output_type": "display_data"
    }
   ],
   "source": [
    "data_path = '/content/drive/MyDrive/original_rawat'\n",
    "create_maps_non_DL(data_path)"
   ]
  },
  {
   "cell_type": "markdown",
   "metadata": {
    "id": "X5zkOi0zoiF0"
   },
   "source": [
    "### Analysis of saliency\n"
   ]
  },
  {
   "cell_type": "code",
   "execution_count": null,
   "metadata": {
    "colab": {
     "base_uri": "https://localhost:8080/"
    },
    "id": "-_sBXVxNqvhE",
    "outputId": "04dc6419-446b-4201-d2da-c9c34a40ea82"
   },
   "outputs": [
    {
     "data": {
      "text/plain": [
       "[]"
      ]
     },
     "execution_count": 6,
     "metadata": {},
     "output_type": "execute_result"
    }
   ],
   "source": [
    "outsu_thres"
   ]
  },
  {
   "cell_type": "code",
   "execution_count": null,
   "metadata": {
    "id": "G7JSkkWgtZtY"
   },
   "outputs": [],
   "source": [
    "for dirname, _, filenames in os.walk('/content/drive/MyDrive/Sal_map_Non_DL_Rawat/'):\n",
    "    for filename in enumerate(filenames,0):\n",
    "        img_path=os.path.join(dirname, filename)\n",
    "        img = cv2.imread(img_path)\n",
    "        img = np.array(img)\n",
    "        \n",
    "        \n",
    "        "
   ]
  },
  {
   "cell_type": "code",
   "execution_count": null,
   "metadata": {
    "id": "42n2-GQ-vDJB"
   },
   "outputs": [],
   "source": []
  }
 ],
 "metadata": {
  "colab": {
   "collapsed_sections": [],
   "name": "Copy of CV_A2.ipynb",
   "provenance": []
  },
  "kernelspec": {
   "display_name": "Python 3 (ipykernel)",
   "language": "python",
   "name": "python3"
  },
  "language_info": {
   "codemirror_mode": {
    "name": "ipython",
    "version": 3
   },
   "file_extension": ".py",
   "mimetype": "text/x-python",
   "name": "python",
   "nbconvert_exporter": "python",
   "pygments_lexer": "ipython3",
   "version": "3.9.6"
  }
 },
 "nbformat": 4,
 "nbformat_minor": 1
}
