{
 "cells": [
  {
   "cell_type": "code",
   "execution_count": 1,
   "id": "ca244913",
   "metadata": {},
   "outputs": [],
   "source": [
    "from cv2 import cv2 as cv\n",
    "import os\n",
    "import numpy as np\n",
    "import matplotlib.pyplot as plt\n",
    "from skimage import feature, exposure\n",
    "from sklearn.cluster import KMeans\n",
    "from scipy.spatial import distance"
   ]
  },
  {
   "cell_type": "code",
   "execution_count": 2,
   "id": "0f57bac7",
   "metadata": {},
   "outputs": [],
   "source": [
    "def div_patches(img, n_patches):\n",
    "    image_patch = []\n",
    "    side = np.sqrt(n_patches).astype(int)\n",
    "    block_width = img.shape[0]//side\n",
    "    \n",
    "    for i in range(side):\n",
    "        for j in range(side):\n",
    "            patch = img[i*block_width:(i+1)*block_width, j*block_width:(j+1)*block_width]\n",
    "            image_patch.append(patch)\n",
    "    return np.sqrt(image_patch)"
   ]
  },
  {
   "cell_type": "code",
   "execution_count": 3,
   "id": "96299397",
   "metadata": {},
   "outputs": [],
   "source": [
    "def import_images(folder, n_patches): \n",
    "    images = []\n",
    "    colored = []\n",
    "    for filename in os.listdir(folder):\n",
    "        img = cv.imread(os.path.join(folder,filename))\n",
    "        if img is not None:\n",
    "            img = cv.resize(img, (256, 256))\n",
    "            colored.append(img)\n",
    "            images.append(div_patches(cv.cvtColor(img, cv.COLOR_BGR2GRAY),n_patches))\n",
    "    return colored, images"
   ]
  },
  {
   "cell_type": "code",
   "execution_count": 4,
   "id": "dc7d6f3f",
   "metadata": {},
   "outputs": [],
   "source": [
    "def display(images, rgb = False):\n",
    "    for i in images:\n",
    "        if rgb:\n",
    "            plt.imshow(cv.cvtColor(i, cv.COLOR_BGR2RGB))\n",
    "            plt.show()\n",
    "        else:\n",
    "            plt.imshow(i,cmap=\"gray\")\n",
    "            plt.show()"
   ]
  },
  {
   "cell_type": "code",
   "execution_count": 5,
   "id": "5c412864",
   "metadata": {},
   "outputs": [],
   "source": [
    "def describe(image):\n",
    "    hist, hog = feature.hog(image, orientations = 9, pixels_per_cell=(4, 4), cells_per_block=(1, 1), visualize=True)\n",
    "    hogImage = exposure.rescale_intensity(hog, out_range=(0, 255))\n",
    "    hog = hog.astype(\"uint8\")\n",
    "    return hist, hog"
   ]
  },
  {
   "cell_type": "code",
   "execution_count": 6,
   "id": "9c9ea650",
   "metadata": {},
   "outputs": [],
   "source": [
    "def implement_hog(images):\n",
    "    descriptors = []\n",
    "    for i in images:\n",
    "        patch_desc = []\n",
    "        for patch in i:\n",
    "            hist, hog = describe(patch)\n",
    "            patch_desc.append(hist)\n",
    "        descriptors.append(patch_desc)\n",
    "    return np.array(descriptors)"
   ]
  },
  {
   "cell_type": "code",
   "execution_count": 7,
   "id": "b82112f2",
   "metadata": {},
   "outputs": [],
   "source": [
    "def kMeans_implement(k,n_patches,descriptors):\n",
    "    features = []\n",
    "    for i in range(n_patches):\n",
    "        kmeans = KMeans(n_clusters = k)\n",
    "        kmeans.fit(descriptors[:,i,:])\n",
    "        centers = kmeans.cluster_centers_\n",
    "        features.append(centers)\n",
    "    return np.array(features)"
   ]
  },
  {
   "cell_type": "code",
   "execution_count": 8,
   "id": "a4be0e9c",
   "metadata": {},
   "outputs": [],
   "source": [
    "def test_image(name, n_patches):\n",
    "    test_img = cv.imread(name)\n",
    "    test_img = cv.resize(test_img, (256, 256))\n",
    "    test_img = div_patches(cv.cvtColor(test_img, cv.COLOR_BGR2GRAY),n_patches)\n",
    "    test_desc = []\n",
    "    for patch in test_img:\n",
    "        hist, hog = describe(patch)\n",
    "        test_desc.append(hist)\n",
    "    return np.array(test_desc)"
   ]
  },
  {
   "cell_type": "code",
   "execution_count": 9,
   "id": "f47d9a3c",
   "metadata": {},
   "outputs": [],
   "source": [
    "def find_index(image, center):\n",
    "    cur_dist = distance.euclidean(image, center[0])\n",
    "    ind = 0\n",
    "    for i in range(1,len(center)):\n",
    "        dist = distance.euclidean(image, center[i]) \n",
    "        if(dist < cur_dist):\n",
    "            ind = i\n",
    "            count = dist\n",
    "    return ind"
   ]
  },
  {
   "cell_type": "code",
   "execution_count": 10,
   "id": "cdc34e7c",
   "metadata": {},
   "outputs": [],
   "source": [
    "def histogram(centers, test, k): \n",
    "    feature_histo = np.zeros(k)\n",
    "    for i in range(test.shape[0]):\n",
    "        for j in range(k):\n",
    "            ind = find_index(test[i],centers[i])\n",
    "        feature_histo[ind] += 1\n",
    "    return np.array(feature_histo).astype(int)"
   ]
  },
  {
   "cell_type": "code",
   "execution_count": 11,
   "id": "30923e5f",
   "metadata": {},
   "outputs": [],
   "source": [
    "k = 5\n",
    "n_patches = 16\n",
    "image = \"15_19_s.jpg\"\n",
    "folder = \"dd\""
   ]
  },
  {
   "cell_type": "code",
   "execution_count": 12,
   "id": "6fd53c15",
   "metadata": {},
   "outputs": [],
   "source": [
    "colored, input_set = import_images(folder, n_patches)\n",
    "training = implement_hog(input_set)\n",
    "features = kMeans_implement(k,n_patches, training)"
   ]
  },
  {
   "cell_type": "code",
   "execution_count": 13,
   "id": "5d489b12",
   "metadata": {},
   "outputs": [],
   "source": [
    "testing = test_image(image,n_patches)\n",
    "output = histogram(features,testing,k)"
   ]
  },
  {
   "cell_type": "code",
   "execution_count": 14,
   "id": "575d9119",
   "metadata": {},
   "outputs": [
    {
     "data": {
      "text/plain": [
       "array([4, 0, 3, 3, 6])"
      ]
     },
     "execution_count": 14,
     "metadata": {},
     "output_type": "execute_result"
    }
   ],
   "source": [
    "output"
   ]
  }
 ],
 "metadata": {
  "kernelspec": {
   "display_name": "Python 3 (ipykernel)",
   "language": "python",
   "name": "python3"
  },
  "language_info": {
   "codemirror_mode": {
    "name": "ipython",
    "version": 3
   },
   "file_extension": ".py",
   "mimetype": "text/x-python",
   "name": "python",
   "nbconvert_exporter": "python",
   "pygments_lexer": "ipython3",
   "version": "3.9.6"
  }
 },
 "nbformat": 4,
 "nbformat_minor": 5
}
